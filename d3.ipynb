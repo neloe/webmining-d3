{
 "cells": [
  {
   "cell_type": "code",
   "execution_count": 54,
   "metadata": {},
   "outputs": [],
   "source": [
    "html_src = ''' <svg id='mychart' />\n",
    "<script>\n",
    "function chart()\n",
    "{\n",
    "const margin = ({top: 30, right: 0, bottom: 30, left: 40})\n",
    "const height=500\n",
    "const width=800\n",
    "\n",
    "const data = [{name: \"E\", value: 0.12702},\n",
    "{name: \"T\", value: 0.09056},\n",
    "{name: \"A\", value: 0.08167},\n",
    "{name: \"O\", value: 0.07507},\n",
    "{name: \"I\", value: 0.06966},\n",
    "{name: \"N\", value: 0.06749},\n",
    "{name: \"S\", value: 0.06327},\n",
    "{name: \"H\", value: 0.06094},\n",
    "{name: \"R\", value: 0.05987}]\n",
    "\n",
    "const yAxis = g => g\n",
    "    .attr(\"transform\", `translate(${margin.left},0)`)\n",
    "    .call(d3.axisLeft(y).ticks(null, data.format))\n",
    "    .call(g => g.select(\".domain\").remove())\n",
    "    .call(g => g.append(\"text\")\n",
    "        .attr(\"x\", -margin.left)\n",
    "        .attr(\"y\", 10)\n",
    "        .attr(\"fill\", \"currentColor\")\n",
    "        .attr(\"text-anchor\", \"start\")\n",
    "        .text(data.y))\n",
    "\n",
    "const xAxis = g => g\n",
    "        .attr(\"transform\", `translate(0,${height - margin.bottom})`)\n",
    "        .call(d3.axisBottom(x).tickFormat(i => data[i].name).tickSizeOuter(0))\n",
    "\n",
    "const y = d3.scaleLinear()\n",
    "        .domain([0, d3.max(data, d => d.value)]).nice()\n",
    "        .range([height - margin.bottom, margin.top])  \n",
    "        \n",
    "const x = d3.scaleBand()\n",
    "        .domain(d3.range(data.length))\n",
    "        .range([margin.left, width - margin.right])\n",
    "        .padding(0.1)\n",
    "\n",
    "    const svg = d3.select('#mychart').attr('viewBox', [0,0,width, height])\n",
    "\n",
    "    svg.append(\"g\")\n",
    "        .attr(\"fill\", \"steelblue\")\n",
    "        .selectAll(\"rect\")\n",
    "        .data(data)\n",
    "        .join(\"rect\")\n",
    "        .attr(\"x\", (d, i) => x(i))\n",
    "        .attr(\"y\", d => y(d.value))\n",
    "        .attr(\"height\", d => y(0) - y(d.value))\n",
    "        .attr(\"width\", x.bandwidth())\n",
    "\n",
    "        svg.append(\"g\")\n",
    "            .call(xAxis);\n",
    "\n",
    "        svg.append(\"g\")\n",
    "            .call(yAxis);\n",
    "\n",
    "        return svg.node()\n",
    "}\n",
    "chart()\n",
    "</script>'''"
   ]
  },
  {
   "cell_type": "code",
   "execution_count": 55,
   "metadata": {},
   "outputs": [
    {
     "data": {
      "text/html": [
       "<script src=\"https://d3js.org/d3.v5.min.js\"></script>"
      ],
      "text/plain": [
       "<IPython.core.display.HTML object>"
      ]
     },
     "execution_count": 55,
     "metadata": {},
     "output_type": "execute_result"
    }
   ],
   "source": [
    "from IPython.core.display import HTML\n",
    "HTML('<script src=\"https://d3js.org/d3.v5.min.js\"></script>')\n"
   ]
  },
  {
   "cell_type": "code",
   "execution_count": 56,
   "metadata": {},
   "outputs": [
    {
     "data": {
      "text/html": [
       " <svg id='mychart' />\n",
       "<script>\n",
       "function chart()\n",
       "{\n",
       "const margin = ({top: 30, right: 0, bottom: 30, left: 40})\n",
       "const height=500\n",
       "const width=800\n",
       "\n",
       "const data = [{name: \"E\", value: 0.12702},\n",
       "{name: \"T\", value: 0.09056},\n",
       "{name: \"A\", value: 0.08167},\n",
       "{name: \"O\", value: 0.07507},\n",
       "{name: \"I\", value: 0.06966},\n",
       "{name: \"N\", value: 0.06749},\n",
       "{name: \"S\", value: 0.06327},\n",
       "{name: \"H\", value: 0.06094},\n",
       "{name: \"R\", value: 0.05987}]\n",
       "\n",
       "const yAxis = g => g\n",
       "    .attr(\"transform\", `translate(${margin.left},0)`)\n",
       "    .call(d3.axisLeft(y).ticks(null, data.format))\n",
       "    .call(g => g.select(\".domain\").remove())\n",
       "    .call(g => g.append(\"text\")\n",
       "        .attr(\"x\", -margin.left)\n",
       "        .attr(\"y\", 10)\n",
       "        .attr(\"fill\", \"currentColor\")\n",
       "        .attr(\"text-anchor\", \"start\")\n",
       "        .text(data.y))\n",
       "\n",
       "const xAxis = g => g\n",
       "        .attr(\"transform\", `translate(0,${height - margin.bottom})`)\n",
       "        .call(d3.axisBottom(x).tickFormat(i => data[i].name).tickSizeOuter(0))\n",
       "\n",
       "const y = d3.scaleLinear()\n",
       "        .domain([0, d3.max(data, d => d.value)]).nice()\n",
       "        .range([height - margin.bottom, margin.top])  \n",
       "        \n",
       "const x = d3.scaleBand()\n",
       "        .domain(d3.range(data.length))\n",
       "        .range([margin.left, width - margin.right])\n",
       "        .padding(0.1)\n",
       "\n",
       "    const svg = d3.select('#mychart').attr('viewBox', [0,0,width, height])\n",
       "\n",
       "    svg.append(\"g\")\n",
       "        .attr(\"fill\", \"steelblue\")\n",
       "        .selectAll(\"rect\")\n",
       "        .data(data)\n",
       "        .join(\"rect\")\n",
       "        .attr(\"x\", (d, i) => x(i))\n",
       "        .attr(\"y\", d => y(d.value))\n",
       "        .attr(\"height\", d => y(0) - y(d.value))\n",
       "        .attr(\"width\", x.bandwidth())\n",
       "\n",
       "        svg.append(\"g\")\n",
       "            .call(xAxis);\n",
       "\n",
       "        svg.append(\"g\")\n",
       "            .call(yAxis);\n",
       "\n",
       "        return svg.node()\n",
       "}\n",
       "chart()\n",
       "</script>"
      ],
      "text/plain": [
       "<IPython.core.display.HTML object>"
      ]
     },
     "execution_count": 56,
     "metadata": {},
     "output_type": "execute_result"
    }
   ],
   "source": [
    "HTML(html_src)"
   ]
  },
  {
   "cell_type": "code",
   "execution_count": null,
   "metadata": {},
   "outputs": [],
   "source": []
  }
 ],
 "metadata": {
  "kernelspec": {
   "display_name": "Python 3",
   "language": "python",
   "name": "python3"
  },
  "language_info": {
   "codemirror_mode": {
    "name": "ipython",
    "version": 3
   },
   "file_extension": ".py",
   "mimetype": "text/x-python",
   "name": "python",
   "nbconvert_exporter": "python",
   "pygments_lexer": "ipython3",
   "version": "3.7.6"
  }
 },
 "nbformat": 4,
 "nbformat_minor": 4
}
